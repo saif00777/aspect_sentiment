{
 "cells": [
  {
   "cell_type": "code",
   "execution_count": 1,
   "metadata": {},
   "outputs": [],
   "source": [
    "import pandas as pd\n",
    "import numpy as np\n",
    "import nltk\n",
    "from nltk.tokenize import sent_tokenize, word_tokenize\n",
    "from sklearn import preprocessing"
   ]
  },
  {
   "cell_type": "code",
   "execution_count": 2,
   "metadata": {},
   "outputs": [
    {
     "name": "stderr",
     "output_type": "stream",
     "text": [
      "c:\\Users\\saifalikhan\\OneDrive - OPTIMAL STRATEGIX GROUP INC\\Desktop\\Monkey_learn\\.monlvenv\\lib\\site-packages\\IPython\\core\\interactiveshell.py:3553: DtypeWarning: Columns (1,10) have mixed types.Specify dtype option on import or set low_memory=False.\n",
      "  exec(code_obj, self.user_global_ns, self.user_ns)\n"
     ]
    }
   ],
   "source": [
    "data = pd.read_csv('1429_1.csv')"
   ]
  },
  {
   "cell_type": "code",
   "execution_count": 3,
   "metadata": {},
   "outputs": [
    {
     "data": {
      "text/plain": [
       "Index(['id', 'name', 'asins', 'brand', 'categories', 'keys', 'manufacturer',\n",
       "       'reviews.date', 'reviews.dateAdded', 'reviews.dateSeen',\n",
       "       'reviews.didPurchase', 'reviews.doRecommend', 'reviews.id',\n",
       "       'reviews.numHelpful', 'reviews.rating', 'reviews.sourceURLs',\n",
       "       'reviews.text', 'reviews.title', 'reviews.userCity',\n",
       "       'reviews.userProvince', 'reviews.username'],\n",
       "      dtype='object')"
      ]
     },
     "execution_count": 3,
     "metadata": {},
     "output_type": "execute_result"
    }
   ],
   "source": [
    "data.columns"
   ]
  },
  {
   "cell_type": "code",
   "execution_count": 51,
   "metadata": {},
   "outputs": [],
   "source": [
    "def sent(n):\n",
    "    if n==5 or n==4:\n",
    "        return 'Postive'\n",
    "    elif n==3:\n",
    "        return 'Nuetral'\n",
    "    elif n==2 or n==1:\n",
    "        return 'Negetive'\n",
    "    else:\n",
    "        pass"
   ]
  },
  {
   "cell_type": "code",
   "execution_count": 52,
   "metadata": {},
   "outputs": [],
   "source": [
    "data_cols=data[['reviews.text','reviews.rating']]"
   ]
  },
  {
   "cell_type": "code",
   "execution_count": 53,
   "metadata": {},
   "outputs": [
    {
     "name": "stderr",
     "output_type": "stream",
     "text": [
      "c:\\Users\\saifalikhan\\OneDrive - OPTIMAL STRATEGIX GROUP INC\\Desktop\\Monkey_learn\\.monlvenv\\lib\\site-packages\\ipykernel_launcher.py:1: SettingWithCopyWarning: \n",
      "A value is trying to be set on a copy of a slice from a DataFrame.\n",
      "Try using .loc[row_indexer,col_indexer] = value instead\n",
      "\n",
      "See the caveats in the documentation: https://pandas.pydata.org/pandas-docs/stable/user_guide/indexing.html#returning-a-view-versus-a-copy\n",
      "  \"\"\"Entry point for launching an IPython kernel.\n"
     ]
    }
   ],
   "source": [
    "data_cols['sentiments']=data_cols['reviews.rating'].apply(sent)"
   ]
  },
  {
   "cell_type": "code",
   "execution_count": 54,
   "metadata": {},
   "outputs": [
    {
     "data": {
      "text/plain": [
       "Postive     32316\n",
       "Nuetral      1499\n",
       "Negetive      812\n",
       "Name: sentiments, dtype: int64"
      ]
     },
     "execution_count": 54,
     "metadata": {},
     "output_type": "execute_result"
    }
   ],
   "source": [
    "data_cols['sentiments'].value_counts()"
   ]
  },
  {
   "cell_type": "code",
   "execution_count": 55,
   "metadata": {},
   "outputs": [],
   "source": [
    "data_cols_pos=data_cols[(data_cols['sentiments']=='Postive')][:812]\n",
    "data_cols_neu=data_cols[(data_cols['sentiments']=='Nuetral')][:812]\n",
    "data_cols_neg=data_cols[(data_cols['sentiments']=='Negetive')][:812]\n",
    "data_2=pd.concat([data_cols_pos,data_cols_neu,data_cols_neg])"
   ]
  },
  {
   "cell_type": "code",
   "execution_count": 56,
   "metadata": {},
   "outputs": [],
   "source": [
    "data_2['reviews.text']=data_2['reviews.text'].astype(str)\n",
    "data_2['reviews.text']=data_2['reviews.text'].str.lower()\n",
    "data_2['token_text']=data_2['reviews.text'].apply(lambda x :sent_tokenize(x))"
   ]
  },
  {
   "cell_type": "code",
   "execution_count": 57,
   "metadata": {},
   "outputs": [],
   "source": [
    "label_encoder = preprocessing.LabelEncoder()"
   ]
  },
  {
   "cell_type": "code",
   "execution_count": 58,
   "metadata": {},
   "outputs": [],
   "source": [
    "data_2['sentiments_en']=label_encoder.fit_transform(data_2['sentiments'])"
   ]
  },
  {
   "cell_type": "code",
   "execution_count": 78,
   "metadata": {},
   "outputs": [],
   "source": [
    "from model import InferSent\n",
    "import torch\n",
    "\n",
    "V = 2\n",
    "MODEL_PATH = 'encoder/infersent%s.pkl' % V\n",
    "params_model = {'bsize': 64, 'word_emb_dim': 300, 'enc_lstm_dim': 2048,\n",
    "                'pool_type': 'max', 'dpout_model': 0.0, 'version': V}\n",
    "model = InferSent(params_model)\n",
    "model.load_state_dict(torch.load(MODEL_PATH))\n",
    "\n",
    "W2V_PATH = r'C:\\Users\\saifalikhan\\OneDrive - OPTIMAL STRATEGIX GROUP INC\\Desktop\\Monkey_learn\\GloVe\\glove.840B.300d.txt'\n",
    "model.set_w2v_path(W2V_PATH)"
   ]
  },
  {
   "cell_type": "code",
   "execution_count": 79,
   "metadata": {},
   "outputs": [],
   "source": [
    "sentences=data_2['reviews.text'].to_list()"
   ]
  },
  {
   "cell_type": "code",
   "execution_count": 80,
   "metadata": {},
   "outputs": [],
   "source": [
    "sentences=''.join(sentences)"
   ]
  },
  {
   "cell_type": "code",
   "execution_count": 81,
   "metadata": {},
   "outputs": [],
   "source": [
    "sentences=sent_tokenize(sentences)"
   ]
  },
  {
   "cell_type": "code",
   "execution_count": 82,
   "metadata": {},
   "outputs": [
    {
     "name": "stdout",
     "output_type": "stream",
     "text": [
      "Found 4894(/7059) words with w2v vectors\n",
      "Vocab size : 4894\n"
     ]
    }
   ],
   "source": [
    "model.build_vocab(sentences, tokenize=True)"
   ]
  },
  {
   "cell_type": "code",
   "execution_count": 59,
   "metadata": {},
   "outputs": [
    {
     "data": {
      "text/html": [
       "<div>\n",
       "<style scoped>\n",
       "    .dataframe tbody tr th:only-of-type {\n",
       "        vertical-align: middle;\n",
       "    }\n",
       "\n",
       "    .dataframe tbody tr th {\n",
       "        vertical-align: top;\n",
       "    }\n",
       "\n",
       "    .dataframe thead th {\n",
       "        text-align: right;\n",
       "    }\n",
       "</style>\n",
       "<table border=\"1\" class=\"dataframe\">\n",
       "  <thead>\n",
       "    <tr style=\"text-align: right;\">\n",
       "      <th></th>\n",
       "      <th>reviews.text</th>\n",
       "      <th>reviews.rating</th>\n",
       "      <th>sentiments</th>\n",
       "      <th>token_text</th>\n",
       "      <th>sentiments_en</th>\n",
       "    </tr>\n",
       "  </thead>\n",
       "  <tbody>\n",
       "    <tr>\n",
       "      <th>0</th>\n",
       "      <td>this product so far has not disappointed. my c...</td>\n",
       "      <td>5.0</td>\n",
       "      <td>Postive</td>\n",
       "      <td>[this product so far has not disappointed., my...</td>\n",
       "      <td>2</td>\n",
       "    </tr>\n",
       "    <tr>\n",
       "      <th>1</th>\n",
       "      <td>great for beginner or experienced person. boug...</td>\n",
       "      <td>5.0</td>\n",
       "      <td>Postive</td>\n",
       "      <td>[great for beginner or experienced person., bo...</td>\n",
       "      <td>2</td>\n",
       "    </tr>\n",
       "    <tr>\n",
       "      <th>2</th>\n",
       "      <td>inexpensive tablet for him to use and learn on...</td>\n",
       "      <td>5.0</td>\n",
       "      <td>Postive</td>\n",
       "      <td>[inexpensive tablet for him to use and learn o...</td>\n",
       "      <td>2</td>\n",
       "    </tr>\n",
       "    <tr>\n",
       "      <th>3</th>\n",
       "      <td>i've had my fire hd 8 two weeks now and i love...</td>\n",
       "      <td>4.0</td>\n",
       "      <td>Postive</td>\n",
       "      <td>[i've had my fire hd 8 two weeks now and i lov...</td>\n",
       "      <td>2</td>\n",
       "    </tr>\n",
       "    <tr>\n",
       "      <th>4</th>\n",
       "      <td>i bought this for my grand daughter when she c...</td>\n",
       "      <td>5.0</td>\n",
       "      <td>Postive</td>\n",
       "      <td>[i bought this for my grand daughter when she ...</td>\n",
       "      <td>2</td>\n",
       "    </tr>\n",
       "    <tr>\n",
       "      <th>...</th>\n",
       "      <td>...</td>\n",
       "      <td>...</td>\n",
       "      <td>...</td>\n",
       "      <td>...</td>\n",
       "      <td>...</td>\n",
       "    </tr>\n",
       "    <tr>\n",
       "      <th>34654</th>\n",
       "      <td>this is exactly like any other usb power charg...</td>\n",
       "      <td>1.0</td>\n",
       "      <td>Negetive</td>\n",
       "      <td>[this is exactly like any other usb power char...</td>\n",
       "      <td>0</td>\n",
       "    </tr>\n",
       "    <tr>\n",
       "      <th>34656</th>\n",
       "      <td>amazon should include this charger with the ki...</td>\n",
       "      <td>1.0</td>\n",
       "      <td>Negetive</td>\n",
       "      <td>[amazon should include this charger with the k...</td>\n",
       "      <td>0</td>\n",
       "    </tr>\n",
       "    <tr>\n",
       "      <th>34657</th>\n",
       "      <td>love my kindle fire but i am really disappoint...</td>\n",
       "      <td>1.0</td>\n",
       "      <td>Negetive</td>\n",
       "      <td>[love my kindle fire but i am really disappoin...</td>\n",
       "      <td>0</td>\n",
       "    </tr>\n",
       "    <tr>\n",
       "      <th>34658</th>\n",
       "      <td>i was surprised to find it did not come with a...</td>\n",
       "      <td>1.0</td>\n",
       "      <td>Negetive</td>\n",
       "      <td>[i was surprised to find it did not come with ...</td>\n",
       "      <td>0</td>\n",
       "    </tr>\n",
       "    <tr>\n",
       "      <th>34659</th>\n",
       "      <td>to spite the fact that i have nothing but good...</td>\n",
       "      <td>1.0</td>\n",
       "      <td>Negetive</td>\n",
       "      <td>[to spite the fact that i have nothing but goo...</td>\n",
       "      <td>0</td>\n",
       "    </tr>\n",
       "  </tbody>\n",
       "</table>\n",
       "<p>2436 rows × 5 columns</p>\n",
       "</div>"
      ],
      "text/plain": [
       "                                            reviews.text  reviews.rating  \\\n",
       "0      this product so far has not disappointed. my c...             5.0   \n",
       "1      great for beginner or experienced person. boug...             5.0   \n",
       "2      inexpensive tablet for him to use and learn on...             5.0   \n",
       "3      i've had my fire hd 8 two weeks now and i love...             4.0   \n",
       "4      i bought this for my grand daughter when she c...             5.0   \n",
       "...                                                  ...             ...   \n",
       "34654  this is exactly like any other usb power charg...             1.0   \n",
       "34656  amazon should include this charger with the ki...             1.0   \n",
       "34657  love my kindle fire but i am really disappoint...             1.0   \n",
       "34658  i was surprised to find it did not come with a...             1.0   \n",
       "34659  to spite the fact that i have nothing but good...             1.0   \n",
       "\n",
       "      sentiments                                         token_text  \\\n",
       "0        Postive  [this product so far has not disappointed., my...   \n",
       "1        Postive  [great for beginner or experienced person., bo...   \n",
       "2        Postive  [inexpensive tablet for him to use and learn o...   \n",
       "3        Postive  [i've had my fire hd 8 two weeks now and i lov...   \n",
       "4        Postive  [i bought this for my grand daughter when she ...   \n",
       "...          ...                                                ...   \n",
       "34654   Negetive  [this is exactly like any other usb power char...   \n",
       "34656   Negetive  [amazon should include this charger with the k...   \n",
       "34657   Negetive  [love my kindle fire but i am really disappoin...   \n",
       "34658   Negetive  [i was surprised to find it did not come with ...   \n",
       "34659   Negetive  [to spite the fact that i have nothing but goo...   \n",
       "\n",
       "       sentiments_en  \n",
       "0                  2  \n",
       "1                  2  \n",
       "2                  2  \n",
       "3                  2  \n",
       "4                  2  \n",
       "...              ...  \n",
       "34654              0  \n",
       "34656              0  \n",
       "34657              0  \n",
       "34658              0  \n",
       "34659              0  \n",
       "\n",
       "[2436 rows x 5 columns]"
      ]
     },
     "execution_count": 59,
     "metadata": {},
     "output_type": "execute_result"
    }
   ],
   "source": [
    "data_2"
   ]
  },
  {
   "cell_type": "code",
   "execution_count": 84,
   "metadata": {},
   "outputs": [
    {
     "name": "stderr",
     "output_type": "stream",
     "text": [
      "c:\\Users\\saifalikhan\\OneDrive - OPTIMAL STRATEGIX GROUP INC\\Desktop\\Monkey_learn\\model.py:207: VisibleDeprecationWarning: Creating an ndarray from ragged nested sequences (which is a list-or-tuple of lists-or-tuples-or ndarrays with different lengths or shapes) is deprecated. If you meant to do this, you must specify 'dtype=object' when creating the ndarray.\n",
      "  sentences = np.array(sentences)[idx_sort]\n"
     ]
    }
   ],
   "source": [
    "data_2['text_vec']=data_2['reviews.text'].apply(lambda x : model.encode(x)[0])"
   ]
  },
  {
   "cell_type": "code",
   "execution_count": 123,
   "metadata": {},
   "outputs": [],
   "source": [
    "import spacy\n",
    "nlp = spacy.load(\"en_core_web_lg\")"
   ]
  },
  {
   "cell_type": "code",
   "execution_count": 124,
   "metadata": {},
   "outputs": [],
   "source": [
    "data_2['spacy_vector']=data_2['reviews.text'].apply(lambda x:nlp(x).vector)"
   ]
  },
  {
   "cell_type": "code",
   "execution_count": 125,
   "metadata": {},
   "outputs": [
    {
     "data": {
      "text/html": [
       "<div>\n",
       "<style scoped>\n",
       "    .dataframe tbody tr th:only-of-type {\n",
       "        vertical-align: middle;\n",
       "    }\n",
       "\n",
       "    .dataframe tbody tr th {\n",
       "        vertical-align: top;\n",
       "    }\n",
       "\n",
       "    .dataframe thead th {\n",
       "        text-align: right;\n",
       "    }\n",
       "</style>\n",
       "<table border=\"1\" class=\"dataframe\">\n",
       "  <thead>\n",
       "    <tr style=\"text-align: right;\">\n",
       "      <th></th>\n",
       "      <th>reviews.text</th>\n",
       "      <th>reviews.rating</th>\n",
       "      <th>sentiments</th>\n",
       "      <th>token_text</th>\n",
       "      <th>sentiments_en</th>\n",
       "      <th>text_vec</th>\n",
       "      <th>spacy_vector</th>\n",
       "    </tr>\n",
       "  </thead>\n",
       "  <tbody>\n",
       "    <tr>\n",
       "      <th>0</th>\n",
       "      <td>this product so far has not disappointed. my c...</td>\n",
       "      <td>5.0</td>\n",
       "      <td>Postive</td>\n",
       "      <td>[this product so far has not disappointed., my...</td>\n",
       "      <td>2</td>\n",
       "      <td>[-0.028743807, 0.04943118, -0.16104074, -0.028...</td>\n",
       "      <td>[-0.25019306, 2.7163677, -4.024124, -1.5867251...</td>\n",
       "    </tr>\n",
       "    <tr>\n",
       "      <th>1</th>\n",
       "      <td>great for beginner or experienced person. boug...</td>\n",
       "      <td>5.0</td>\n",
       "      <td>Postive</td>\n",
       "      <td>[great for beginner or experienced person., bo...</td>\n",
       "      <td>2</td>\n",
       "      <td>[-0.017154634, 0.04943118, -0.17540525, -0.037...</td>\n",
       "      <td>[-1.9230068, -0.6920327, -4.27986, -1.771333, ...</td>\n",
       "    </tr>\n",
       "    <tr>\n",
       "      <th>2</th>\n",
       "      <td>inexpensive tablet for him to use and learn on...</td>\n",
       "      <td>5.0</td>\n",
       "      <td>Postive</td>\n",
       "      <td>[inexpensive tablet for him to use and learn o...</td>\n",
       "      <td>2</td>\n",
       "      <td>[0.0081173545, 0.0701023, -0.14298782, -0.0370...</td>\n",
       "      <td>[-1.1673046, 1.7241348, -3.271428, -0.3905851,...</td>\n",
       "    </tr>\n",
       "    <tr>\n",
       "      <th>3</th>\n",
       "      <td>i've had my fire hd 8 two weeks now and i love...</td>\n",
       "      <td>4.0</td>\n",
       "      <td>Postive</td>\n",
       "      <td>[i've had my fire hd 8 two weeks now and i lov...</td>\n",
       "      <td>2</td>\n",
       "      <td>[0.0081173545, 0.0701023, -0.14298782, -0.0370...</td>\n",
       "      <td>[-0.9205441, 1.2842977, -3.5087426, -0.0970070...</td>\n",
       "    </tr>\n",
       "    <tr>\n",
       "      <th>4</th>\n",
       "      <td>i bought this for my grand daughter when she c...</td>\n",
       "      <td>5.0</td>\n",
       "      <td>Postive</td>\n",
       "      <td>[i bought this for my grand daughter when she ...</td>\n",
       "      <td>2</td>\n",
       "      <td>[0.0081173545, 0.0701023, -0.14298782, -0.0370...</td>\n",
       "      <td>[-0.79002047, 1.180209, -2.8549027, -0.8414615...</td>\n",
       "    </tr>\n",
       "    <tr>\n",
       "      <th>...</th>\n",
       "      <td>...</td>\n",
       "      <td>...</td>\n",
       "      <td>...</td>\n",
       "      <td>...</td>\n",
       "      <td>...</td>\n",
       "      <td>...</td>\n",
       "      <td>...</td>\n",
       "    </tr>\n",
       "    <tr>\n",
       "      <th>34654</th>\n",
       "      <td>this is exactly like any other usb power charg...</td>\n",
       "      <td>1.0</td>\n",
       "      <td>Negetive</td>\n",
       "      <td>[this is exactly like any other usb power char...</td>\n",
       "      <td>0</td>\n",
       "      <td>[-0.028743807, 0.04943118, -0.16104074, -0.028...</td>\n",
       "      <td>[-1.5329013, 0.6928197, -2.25504, 0.30614275, ...</td>\n",
       "    </tr>\n",
       "    <tr>\n",
       "      <th>34656</th>\n",
       "      <td>amazon should include this charger with the ki...</td>\n",
       "      <td>1.0</td>\n",
       "      <td>Negetive</td>\n",
       "      <td>[amazon should include this charger with the k...</td>\n",
       "      <td>0</td>\n",
       "      <td>[0.01666666, 0.04943118, -0.1544277, 0.0354411...</td>\n",
       "      <td>[-2.0224683, 1.3657181, -3.5353205, -0.2447792...</td>\n",
       "    </tr>\n",
       "    <tr>\n",
       "      <th>34657</th>\n",
       "      <td>love my kindle fire but i am really disappoint...</td>\n",
       "      <td>1.0</td>\n",
       "      <td>Negetive</td>\n",
       "      <td>[love my kindle fire but i am really disappoin...</td>\n",
       "      <td>0</td>\n",
       "      <td>[-0.017154632, 0.04943118, -0.17540525, -0.037...</td>\n",
       "      <td>[-0.81430537, 0.32322833, -2.7721627, -0.85136...</td>\n",
       "    </tr>\n",
       "    <tr>\n",
       "      <th>34658</th>\n",
       "      <td>i was surprised to find it did not come with a...</td>\n",
       "      <td>1.0</td>\n",
       "      <td>Negetive</td>\n",
       "      <td>[i was surprised to find it did not come with ...</td>\n",
       "      <td>0</td>\n",
       "      <td>[0.0081173545, 0.0701023, -0.14298782, -0.0370...</td>\n",
       "      <td>[-1.7938577, 1.2113273, -3.1553993, -2.3094058...</td>\n",
       "    </tr>\n",
       "    <tr>\n",
       "      <th>34659</th>\n",
       "      <td>to spite the fact that i have nothing but good...</td>\n",
       "      <td>1.0</td>\n",
       "      <td>Negetive</td>\n",
       "      <td>[to spite the fact that i have nothing but goo...</td>\n",
       "      <td>0</td>\n",
       "      <td>[-0.028743807, 0.04943118, -0.16104074, -0.028...</td>\n",
       "      <td>[-1.279308, 1.3897905, -3.5073342, -1.3977978,...</td>\n",
       "    </tr>\n",
       "  </tbody>\n",
       "</table>\n",
       "<p>2436 rows × 7 columns</p>\n",
       "</div>"
      ],
      "text/plain": [
       "                                            reviews.text  reviews.rating  \\\n",
       "0      this product so far has not disappointed. my c...             5.0   \n",
       "1      great for beginner or experienced person. boug...             5.0   \n",
       "2      inexpensive tablet for him to use and learn on...             5.0   \n",
       "3      i've had my fire hd 8 two weeks now and i love...             4.0   \n",
       "4      i bought this for my grand daughter when she c...             5.0   \n",
       "...                                                  ...             ...   \n",
       "34654  this is exactly like any other usb power charg...             1.0   \n",
       "34656  amazon should include this charger with the ki...             1.0   \n",
       "34657  love my kindle fire but i am really disappoint...             1.0   \n",
       "34658  i was surprised to find it did not come with a...             1.0   \n",
       "34659  to spite the fact that i have nothing but good...             1.0   \n",
       "\n",
       "      sentiments                                         token_text  \\\n",
       "0        Postive  [this product so far has not disappointed., my...   \n",
       "1        Postive  [great for beginner or experienced person., bo...   \n",
       "2        Postive  [inexpensive tablet for him to use and learn o...   \n",
       "3        Postive  [i've had my fire hd 8 two weeks now and i lov...   \n",
       "4        Postive  [i bought this for my grand daughter when she ...   \n",
       "...          ...                                                ...   \n",
       "34654   Negetive  [this is exactly like any other usb power char...   \n",
       "34656   Negetive  [amazon should include this charger with the k...   \n",
       "34657   Negetive  [love my kindle fire but i am really disappoin...   \n",
       "34658   Negetive  [i was surprised to find it did not come with ...   \n",
       "34659   Negetive  [to spite the fact that i have nothing but goo...   \n",
       "\n",
       "       sentiments_en                                           text_vec  \\\n",
       "0                  2  [-0.028743807, 0.04943118, -0.16104074, -0.028...   \n",
       "1                  2  [-0.017154634, 0.04943118, -0.17540525, -0.037...   \n",
       "2                  2  [0.0081173545, 0.0701023, -0.14298782, -0.0370...   \n",
       "3                  2  [0.0081173545, 0.0701023, -0.14298782, -0.0370...   \n",
       "4                  2  [0.0081173545, 0.0701023, -0.14298782, -0.0370...   \n",
       "...              ...                                                ...   \n",
       "34654              0  [-0.028743807, 0.04943118, -0.16104074, -0.028...   \n",
       "34656              0  [0.01666666, 0.04943118, -0.1544277, 0.0354411...   \n",
       "34657              0  [-0.017154632, 0.04943118, -0.17540525, -0.037...   \n",
       "34658              0  [0.0081173545, 0.0701023, -0.14298782, -0.0370...   \n",
       "34659              0  [-0.028743807, 0.04943118, -0.16104074, -0.028...   \n",
       "\n",
       "                                            spacy_vector  \n",
       "0      [-0.25019306, 2.7163677, -4.024124, -1.5867251...  \n",
       "1      [-1.9230068, -0.6920327, -4.27986, -1.771333, ...  \n",
       "2      [-1.1673046, 1.7241348, -3.271428, -0.3905851,...  \n",
       "3      [-0.9205441, 1.2842977, -3.5087426, -0.0970070...  \n",
       "4      [-0.79002047, 1.180209, -2.8549027, -0.8414615...  \n",
       "...                                                  ...  \n",
       "34654  [-1.5329013, 0.6928197, -2.25504, 0.30614275, ...  \n",
       "34656  [-2.0224683, 1.3657181, -3.5353205, -0.2447792...  \n",
       "34657  [-0.81430537, 0.32322833, -2.7721627, -0.85136...  \n",
       "34658  [-1.7938577, 1.2113273, -3.1553993, -2.3094058...  \n",
       "34659  [-1.279308, 1.3897905, -3.5073342, -1.3977978,...  \n",
       "\n",
       "[2436 rows x 7 columns]"
      ]
     },
     "execution_count": 125,
     "metadata": {},
     "output_type": "execute_result"
    }
   ],
   "source": [
    "data_2"
   ]
  },
  {
   "cell_type": "code",
   "execution_count": 161,
   "metadata": {},
   "outputs": [],
   "source": [
    "from sklearn.model_selection import train_test_split\n",
    "\n",
    "x_train,x_test,y_train,y_test=train_test_split(\n",
    "    data_2['text_vec'].values,\n",
    "    data_2['sentiments_en'],\n",
    "    test_size=0.2,\n",
    "    random_state=2022\n",
    ")"
   ]
  },
  {
   "cell_type": "code",
   "execution_count": 167,
   "metadata": {},
   "outputs": [],
   "source": [
    "x_train, x_test, y_train, y_test = train_test_split(\n",
    "data_2['spacy_vector'].values,\n",
    "data_2['sentiments_en'],\n",
    "test_size=0.2,\n",
    "random_state=2022)\n"
   ]
  },
  {
   "cell_type": "code",
   "execution_count": 117,
   "metadata": {},
   "outputs": [],
   "source": [
    "x_train=np.array(x_train)\n",
    "x_test=np.array(x_test)\n",
    "y_train=np.array(y_train)\n",
    "y_test=np.array(y_test)"
   ]
  },
  {
   "cell_type": "code",
   "execution_count": 162,
   "metadata": {},
   "outputs": [],
   "source": [
    "x_train=np.stack(x_train)\n",
    "x_test=np.stack(x_test)"
   ]
  },
  {
   "cell_type": "code",
   "execution_count": 153,
   "metadata": {},
   "outputs": [
    {
     "data": {
      "text/plain": [
       "MultinomialNB()"
      ]
     },
     "execution_count": 153,
     "metadata": {},
     "output_type": "execute_result"
    }
   ],
   "source": [
    "from sklearn.naive_bayes import MultinomialNB\n",
    "from sklearn.preprocessing import MinMaxScaler\n",
    "scaler=MinMaxScaler()\n",
    "x_train_scaled=scaler.fit_transform(x_train)\n",
    "x_test_scaled=scaler.transform(x_test)\n",
    "clf=MultinomialNB()\n",
    "clf.fit(x_train_scaled,y_train)"
   ]
  },
  {
   "cell_type": "code",
   "execution_count": 149,
   "metadata": {},
   "outputs": [
    {
     "name": "stdout",
     "output_type": "stream",
     "text": [
      "              precision    recall  f1-score   support\n",
      "\n",
      "           0       0.38      0.52      0.44       171\n",
      "           1       0.24      0.22      0.23       145\n",
      "           2       0.37      0.26      0.30       172\n",
      "\n",
      "    accuracy                           0.34       488\n",
      "   macro avg       0.33      0.33      0.32       488\n",
      "weighted avg       0.33      0.34      0.33       488\n",
      "\n"
     ]
    }
   ],
   "source": [
    "y_pred=clf.predict(x_test_scaled)\n",
    "from sklearn.metrics import classification_report\n",
    "print(classification_report(y_test,y_pred))"
   ]
  },
  {
   "cell_type": "code",
   "execution_count": 154,
   "metadata": {},
   "outputs": [
    {
     "name": "stdout",
     "output_type": "stream",
     "text": [
      "              precision    recall  f1-score   support\n",
      "\n",
      "           0       0.58      0.55      0.57       171\n",
      "           1       0.40      0.50      0.45       145\n",
      "           2       0.67      0.57      0.62       172\n",
      "\n",
      "    accuracy                           0.54       488\n",
      "   macro avg       0.55      0.54      0.54       488\n",
      "weighted avg       0.56      0.54      0.55       488\n",
      "\n"
     ]
    }
   ],
   "source": [
    "y_pred=clf.predict(x_test_scaled)\n",
    "from sklearn.metrics import classification_report\n",
    "print(classification_report(y_test,y_pred))"
   ]
  },
  {
   "cell_type": "code",
   "execution_count": 155,
   "metadata": {},
   "outputs": [
    {
     "data": {
      "text/plain": [
       "RandomForestClassifier()"
      ]
     },
     "execution_count": 155,
     "metadata": {},
     "output_type": "execute_result"
    }
   ],
   "source": [
    "from sklearn.ensemble import RandomForestClassifier\n",
    "r_clf=RandomForestClassifier()\n",
    "r_clf.fit(x_train_scaled,y_train)"
   ]
  },
  {
   "cell_type": "code",
   "execution_count": 115,
   "metadata": {},
   "outputs": [
    {
     "name": "stdout",
     "output_type": "stream",
     "text": [
      "              precision    recall  f1-score   support\n",
      "\n",
      "           0       0.37      0.46      0.41       171\n",
      "           1       0.25      0.30      0.27       145\n",
      "           2       0.38      0.23      0.29       172\n",
      "\n",
      "    accuracy                           0.33       488\n",
      "   macro avg       0.34      0.33      0.32       488\n",
      "weighted avg       0.34      0.33      0.33       488\n",
      "\n"
     ]
    }
   ],
   "source": [
    "y_pred=r_clf.predict(x_test_scaled)\n",
    "from sklearn.metrics import classification_report\n",
    "print(classification_report(y_test,y_pred))"
   ]
  },
  {
   "cell_type": "code",
   "execution_count": 156,
   "metadata": {},
   "outputs": [
    {
     "name": "stdout",
     "output_type": "stream",
     "text": [
      "              precision    recall  f1-score   support\n",
      "\n",
      "           0       0.66      0.64      0.65       171\n",
      "           1       0.46      0.49      0.47       145\n",
      "           2       0.66      0.63      0.65       172\n",
      "\n",
      "    accuracy                           0.59       488\n",
      "   macro avg       0.59      0.59      0.59       488\n",
      "weighted avg       0.60      0.59      0.60       488\n",
      "\n"
     ]
    }
   ],
   "source": [
    "y_pred=r_clf.predict(x_test_scaled)\n",
    "from sklearn.metrics import classification_report\n",
    "print(classification_report(y_test,y_pred))"
   ]
  },
  {
   "cell_type": "code",
   "execution_count": 168,
   "metadata": {},
   "outputs": [],
   "source": [
    "from sklearn.ensemble import GradientBoostingClassifier\n",
    "bo_clf = GradientBoostingClassifier(n_estimators=100, learning_rate=1.0,\n",
    "     max_depth=1, random_state=0).fit(x_train_scaled, y_train)"
   ]
  },
  {
   "cell_type": "code",
   "execution_count": 164,
   "metadata": {},
   "outputs": [
    {
     "name": "stdout",
     "output_type": "stream",
     "text": [
      "              precision    recall  f1-score   support\n",
      "\n",
      "           0       0.64      0.64      0.64       171\n",
      "           1       0.47      0.52      0.50       145\n",
      "           2       0.67      0.62      0.65       172\n",
      "\n",
      "    accuracy                           0.60       488\n",
      "   macro avg       0.60      0.59      0.60       488\n",
      "weighted avg       0.60      0.60      0.60       488\n",
      "\n"
     ]
    }
   ],
   "source": [
    "y_pred=bo_clf.predict(x_test_scaled)\n",
    "from sklearn.metrics import classification_report\n",
    "print(classification_report(y_test,y_pred))"
   ]
  },
  {
   "cell_type": "code",
   "execution_count": 169,
   "metadata": {},
   "outputs": [
    {
     "name": "stdout",
     "output_type": "stream",
     "text": [
      "              precision    recall  f1-score   support\n",
      "\n",
      "           0       0.64      0.64      0.64       171\n",
      "           1       0.47      0.52      0.50       145\n",
      "           2       0.67      0.62      0.65       172\n",
      "\n",
      "    accuracy                           0.60       488\n",
      "   macro avg       0.60      0.59      0.60       488\n",
      "weighted avg       0.60      0.60      0.60       488\n",
      "\n"
     ]
    }
   ],
   "source": [
    "y_pred=bo_clf.predict(x_test_scaled)\n",
    "from sklearn.metrics import classification_report\n",
    "print(classification_report(y_test,y_pred))"
   ]
  }
 ],
 "metadata": {
  "kernelspec": {
   "display_name": "Python 3.7.9 ('.monlvenv': venv)",
   "language": "python",
   "name": "python3"
  },
  "language_info": {
   "codemirror_mode": {
    "name": "ipython",
    "version": 3
   },
   "file_extension": ".py",
   "mimetype": "text/x-python",
   "name": "python",
   "nbconvert_exporter": "python",
   "pygments_lexer": "ipython3",
   "version": "3.7.9"
  },
  "orig_nbformat": 4,
  "vscode": {
   "interpreter": {
    "hash": "556f1f47c1653f9a2a366432905d9409fce0f42d54a14ea4bc9672727de24e84"
   }
  }
 },
 "nbformat": 4,
 "nbformat_minor": 2
}
